{
  "nbformat": 4,
  "nbformat_minor": 0,
  "metadata": {
    "colab": {
      "provenance": [],
      "include_colab_link": true
    },
    "kernelspec": {
      "name": "python3",
      "display_name": "Python 3"
    },
    "language_info": {
      "name": "python"
    }
  },
  "cells": [
    {
      "cell_type": "markdown",
      "metadata": {
        "id": "view-in-github",
        "colab_type": "text"
      },
      "source": [
        "<a href=\"https://colab.research.google.com/github/joseg20sep/Agencia-de-inteligencia/blob/main/UNIDAD_1_FUNDAMENTOS_DE_PYTHON.ipynb\" target=\"_parent\"><img src=\"https://colab.research.google.com/assets/colab-badge.svg\" alt=\"Open In Colab\"/></a>"
      ]
    },
    {
      "cell_type": "markdown",
      "source": [
        "# Conceptos básicos: Variables, tipos de datos y operadores."
      ],
      "metadata": {
        "id": "UOdyOz5xQdh8"
      }
    },
    {
      "cell_type": "markdown",
      "source": [
        "## Variables en Python"
      ],
      "metadata": {
        "id": "GEZ-wwzCOijh"
      }
    },
    {
      "cell_type": "markdown",
      "source": [
        "En programación de software, una variable es un contenedor que se utiliza para almacenar datos en un programa. Es un nombre simbólico que representa una ubicación de memoria reservada en el sistema para almacenar un valor específico.\n",
        "\n",
        "Las variables pueden contener diferentes tipos de datos, como números, caracteres, cadenas de texto, booleanos, entre otros. Además, estas pueden ser modificadas durante la ejecución del programa y se pueden utilizar para realizar cálculos, tomar decisiones y controlar el flujo de un programa.\n",
        "\n",
        "El nombre de la variable debe ser único dentro del alcance donde se utiliza, lo que permite referenciarla y acceder a su valor desde diferentes partes del programa. Es importante tener en cuenta que las variables tienen un tipo de dato asociado, lo que significa que sólo se pueden almacenar valores de un tipo específico."
      ],
      "metadata": {
        "id": "pG1mYG-FOpO4"
      }
    },
    {
      "cell_type": "markdown",
      "source": [
        "A diferencia de otros lenguajes de programación, Python es un lenguaje de tipado dinámico, lo que significa que el tipo de datos de una variable es determinado automáticamente por el intérprete de Python en tiempo de ejecución, en función del valor asignado a la variable. Por lo tanto, no es necesario especificar el tipo de datos de una variable antes de asignar un valor a ella.\n",
        "\n",
        "Para crear una variable en Python, se utiliza un nombre de variable seguido por un signo igual y el valor que se desea asignar. Por ejemplo:"
      ],
      "metadata": {
        "id": "GYiETmojPoZm"
      }
    },
    {
      "cell_type": "code",
      "source": [
        "mi_variable = 10\n",
        "mi_cadena = \"Hola mundo\"\n",
        "mi_booleano = True"
      ],
      "metadata": {
        "id": "XqINeOWiP33h"
      },
      "execution_count": null,
      "outputs": []
    },
    {
      "cell_type": "markdown",
      "source": [
        "Además, las variables en Python pueden ser modificadas durante la ejecución del programa. Por ejemplo, se puede cambiar el valor de una variable existente simplemente asignando un nuevo valor a la misma:"
      ],
      "metadata": {
        "id": "NpCJo5xjP7R9"
      }
    },
    {
      "cell_type": "code",
      "source": [
        "mi_variable = 20"
      ],
      "metadata": {
        "id": "pwoGqmRGQD1E"
      },
      "execution_count": null,
      "outputs": []
    },
    {
      "cell_type": "markdown",
      "source": [
        "También es posible asignar el valor de una variable a otra variable:"
      ],
      "metadata": {
        "id": "pVl1jw-sQHzP"
      }
    },
    {
      "cell_type": "code",
      "source": [
        "a = 10\n",
        "b = a"
      ],
      "metadata": {
        "id": "6Sq-aR6YQITL"
      },
      "execution_count": null,
      "outputs": []
    },
    {
      "cell_type": "markdown",
      "source": [
        "En este caso, la variable \"b\" contendrá el mismo valor que la variable \"a\".\n",
        "\n",
        "Es importante tener en cuenta que en Python, las variables son sensibles a mayúsculas y minúsculas, lo que significa que las variables \"mi_variable\" y \"Mi_Variable\" se consideran diferentes variables."
      ],
      "metadata": {
        "id": "4cr9BIrYQQly"
      }
    },
    {
      "cell_type": "markdown",
      "source": [
        "## Tipos de datos en Python"
      ],
      "metadata": {
        "id": "7T0QR9KtQw4I"
      }
    },
    {
      "cell_type": "markdown",
      "source": [
        "En Python, existen varios tipos de datos que se utilizan para representar diferentes tipos de valores. A continuación, se describen los principales tipos de datos en Python:"
      ],
      "metadata": {
        "id": "AjtcpbG2Q1tv"
      }
    },
    {
      "cell_type": "markdown",
      "source": [
        "### Números:\n",
        "\n",
        "Se utilizan para representar valores numéricos. En Python, existen tres tipos de números: enteros (int), números de punto flotante (float) y números complejos (complex). Por ejemplo:"
      ],
      "metadata": {
        "id": "pTydwF5CROU2"
      }
    },
    {
      "cell_type": "code",
      "source": [
        "# Enteros\n",
        "x = 10\n",
        "\n",
        "# Números de punto flotante\n",
        "y = 3.14\n",
        "\n",
        "# Números complejos\n",
        "z = 2 + 3j"
      ],
      "metadata": {
        "id": "Z_5IJ5QMRYm5"
      },
      "execution_count": null,
      "outputs": []
    },
    {
      "cell_type": "code",
      "source": [
        "print(z)"
      ],
      "metadata": {
        "colab": {
          "base_uri": "https://localhost:8080/"
        },
        "id": "RlyvQ2RaRacf",
        "outputId": "966d6641-d9f8-4eee-b62d-f91168f581ad"
      },
      "execution_count": null,
      "outputs": [
        {
          "output_type": "stream",
          "name": "stdout",
          "text": [
            "(2+3j)\n"
          ]
        }
      ]
    },
    {
      "cell_type": "code",
      "source": [
        "print(\"¿Qué tipo de dato es 243?\", type(y))"
      ],
      "metadata": {
        "colab": {
          "base_uri": "https://localhost:8080/"
        },
        "id": "UlvCaMFlS3aj",
        "outputId": "7f9f355e-90f5-46ef-b751-1bfecd254654"
      },
      "execution_count": null,
      "outputs": [
        {
          "output_type": "stream",
          "name": "stdout",
          "text": [
            "¿Qué tipo de dato es 243? <class 'float'>\n"
          ]
        }
      ]
    },
    {
      "cell_type": "markdown",
      "source": [
        "### Cadenas de texto:\n",
        "\n",
        "Se utilizan para representar secuencias de caracteres. Las cadenas de texto se pueden definir utilizando comillas simples (' ') o dobles (\" \"). Por ejemplo:"
      ],
      "metadata": {
        "id": "LfJ2S1BeRkEH"
      }
    },
    {
      "cell_type": "code",
      "source": [
        "mensaje = 'Hola mundo!'"
      ],
      "metadata": {
        "id": "sipEWrtpRosM"
      },
      "execution_count": null,
      "outputs": []
    },
    {
      "cell_type": "code",
      "source": [
        "print(mensaje)"
      ],
      "metadata": {
        "colab": {
          "base_uri": "https://localhost:8080/"
        },
        "id": "AOqP-_V3RsYJ",
        "outputId": "807efacf-83a1-4e28-f1e2-66eb69a37f0f"
      },
      "execution_count": null,
      "outputs": [
        {
          "output_type": "stream",
          "name": "stdout",
          "text": [
            "Hola mundo!\n"
          ]
        }
      ]
    },
    {
      "cell_type": "code",
      "source": [
        "# String -> cadena de caracteres -> str\n",
        "print(\"¿Qué tipo de dato es 'hola'?:\", type(\"mensaje\"))"
      ],
      "metadata": {
        "colab": {
          "base_uri": "https://localhost:8080/"
        },
        "id": "NgEp7ab3St-0",
        "outputId": "6c0f1341-f1eb-437d-9bb8-25a8b400fb5e"
      },
      "execution_count": null,
      "outputs": [
        {
          "output_type": "stream",
          "name": "stdout",
          "text": [
            "¿Qué tipo de dato es 'hola'?: <class 'str'>\n"
          ]
        }
      ]
    },
    {
      "cell_type": "code",
      "source": [
        "# Declarar\n",
        "texto_1 = \"soy un texto\"\n",
        "texto_2 = 'soy un texto'\n",
        "texto_3 = \"\"\"soy un texto\"\"\"\n",
        "texto_4 = '''soy un texto'''"
      ],
      "metadata": {
        "id": "nSmp_c85TOvt"
      },
      "execution_count": null,
      "outputs": []
    },
    {
      "cell_type": "code",
      "source": [
        "print(texto_3)"
      ],
      "metadata": {
        "colab": {
          "base_uri": "https://localhost:8080/"
        },
        "id": "J7mTFztYTU9o",
        "outputId": "367fc51e-3196-4c82-8ff0-90a31c2d3f1b"
      },
      "execution_count": null,
      "outputs": [
        {
          "output_type": "stream",
          "name": "stdout",
          "text": [
            "soy un texto\n"
          ]
        }
      ]
    },
    {
      "cell_type": "code",
      "source": [
        "nombre = \"Wilson\"\n",
        "apellido = \"Espitia\"\n",
        "edad = 30\n",
        "\n",
        "print(\"Hola, mi nombre es: {0} {1} {2}\".format(nombre, apellido, edad))\n",
        "\n",
        "# Concatenar\n",
        "\n",
        "# Este código utiliza la función print() para imprimir una cadena de texto en la consola, que incluye variables que contienen valores que se desean mostrar en la cadena de texto.\n",
        "# La cadena de texto se define utilizando comillas dobles (\" \"), y utiliza la f antes del inicio de la cadena (formato f-string) para indicar que se desea incluir el valor de\n",
        "# variables dentro de la cadena utilizando llaves {}.\n",
        "\n",
        "# La cadena de texto incluye tres variables: \"nombre\", \"apellido\" y \"edad\". Cada variable se coloca dentro de las llaves {} y se interpola en la cadena de texto utilizando el formato {variable}.\n",
        "# Por ejemplo, si \"nombre\" es \"Wilson\", \"apellido\" es \"Espitia\" y \"edad\" es 30, la cadena de texto impresa será \"Hola, mi nombre es Wilson Espitia y mi edad es 30\".\n",
        "\n",
        "print(f\"Hola, mi nombre es {nombre} {apellido} y mi edad es {edad}\")\n",
        "\n",
        "# La ventaja de utilizar f-strings en Python es que permite incluir fácilmente variables dentro de una cadena de texto, sin tener que concatenar manualmente las variables y las cadenas de texto\n",
        "# utilizando el operador +. Además, el formato f-string también admite expresiones complejas dentro de las llaves {}, lo que permite realizar operaciones o funciones en las variables antes\n",
        "# de incluirlas en la cadena de texto."
      ],
      "metadata": {
        "colab": {
          "base_uri": "https://localhost:8080/"
        },
        "id": "kx60lxs9TccH",
        "outputId": "1538846a-ec5c-45c3-a099-fadd7648fe73"
      },
      "execution_count": null,
      "outputs": [
        {
          "output_type": "stream",
          "name": "stdout",
          "text": [
            "Hola, mi nombre es: Wilson Espitia 30\n",
            "Hola, mi nombre es Wilson Espitia y mi edad es 30\n"
          ]
        }
      ]
    },
    {
      "cell_type": "code",
      "source": [
        "nombre_completo = nombre + \" \" + apellido\n",
        "print(\"Mi nombre completo es:\", nombre_completo)"
      ],
      "metadata": {
        "colab": {
          "base_uri": "https://localhost:8080/"
        },
        "id": "xtJPLLGHX-6v",
        "outputId": "c620baaa-acef-46d7-ce65-e12accfc0b52"
      },
      "execution_count": null,
      "outputs": [
        {
          "output_type": "stream",
          "name": "stdout",
          "text": [
            "Mi nombre completo es: Wilson Espitia\n"
          ]
        }
      ]
    },
    {
      "cell_type": "markdown",
      "source": [
        "### Booleanos:\n",
        "\n",
        "Se utilizan para representar valores verdadero o falso. En Python, los valores verdadero se representan con la palabra reservada True y los valores falso con la palabra reservada False. Por ejemplo:"
      ],
      "metadata": {
        "id": "n_o_JJ4TRx0c"
      }
    },
    {
      "cell_type": "code",
      "source": [
        "es_mayor = True\n",
        "es_menor = False"
      ],
      "metadata": {
        "id": "QUG2aGnuR1qD"
      },
      "execution_count": null,
      "outputs": []
    },
    {
      "cell_type": "code",
      "source": [
        "print(es_menor)"
      ],
      "metadata": {
        "colab": {
          "base_uri": "https://localhost:8080/"
        },
        "id": "qgc402VYR9Fo",
        "outputId": "154b3347-973e-428c-c873-9a1be5834bea"
      },
      "execution_count": null,
      "outputs": [
        {
          "output_type": "stream",
          "name": "stdout",
          "text": [
            "False\n"
          ]
        }
      ]
    },
    {
      "cell_type": "code",
      "source": [
        "print(\"¿Qué tipo de dato es True?\", type(es_menor))"
      ],
      "metadata": {
        "colab": {
          "base_uri": "https://localhost:8080/"
        },
        "id": "UYg7ksr0TBNt",
        "outputId": "e413503c-c35d-446a-c1ea-73772f4ebadd"
      },
      "execution_count": null,
      "outputs": [
        {
          "output_type": "stream",
          "name": "stdout",
          "text": [
            "¿Qué tipo de dato es True? <class 'bool'>\n"
          ]
        }
      ]
    },
    {
      "cell_type": "markdown",
      "source": [
        "### Listas:\n",
        "\n",
        "Se utilizan para representar colecciones ordenadas de elementos. Los elementos de una lista pueden ser de diferentes tipos de datos, y se pueden agregar, eliminar y modificar durante la ejecución del programa. Las listas se definen utilizando corchetes ([ ]) y los elementos se separan por comas. Por ejemplo:"
      ],
      "metadata": {
        "id": "7JDKXW3TSB6l"
      }
    },
    {
      "cell_type": "code",
      "source": [
        "numeros = [1, 2, 3, 4, 5]"
      ],
      "metadata": {
        "id": "p804ss2JSGKr"
      },
      "execution_count": null,
      "outputs": []
    },
    {
      "cell_type": "code",
      "source": [
        "print(numeros)"
      ],
      "metadata": {
        "colab": {
          "base_uri": "https://localhost:8080/"
        },
        "id": "TElZ2jbmSI75",
        "outputId": "4d274fdf-7b45-4267-dee1-5b29b3b9cf68"
      },
      "execution_count": null,
      "outputs": [
        {
          "output_type": "stream",
          "name": "stdout",
          "text": [
            "[1, 2, 3, 4, 5]\n"
          ]
        }
      ]
    },
    {
      "cell_type": "markdown",
      "source": [
        "### Tuplas: \n",
        "\n",
        "Son similares a las listas, pero a diferencia de estas, las tuplas son inmutables, es decir, una vez que se crean, no se pueden modificar. Las tuplas se definen utilizando paréntesis ( ) y los elementos se separan por comas. Por ejemplo:"
      ],
      "metadata": {
        "id": "mSiyiwzDSLMK"
      }
    },
    {
      "cell_type": "code",
      "source": [
        "coordenadas = (3, 5)"
      ],
      "metadata": {
        "id": "pKuXoYQSSPaQ"
      },
      "execution_count": null,
      "outputs": []
    },
    {
      "cell_type": "code",
      "source": [
        "print(coordenadas)"
      ],
      "metadata": {
        "colab": {
          "base_uri": "https://localhost:8080/"
        },
        "id": "T3iHfKUDSSRT",
        "outputId": "59aa632e-59a6-4d2b-810a-d3e7b9246c83"
      },
      "execution_count": null,
      "outputs": [
        {
          "output_type": "stream",
          "name": "stdout",
          "text": [
            "(3, 5)\n"
          ]
        }
      ]
    },
    {
      "cell_type": "markdown",
      "source": [
        "### Diccionarios:\n",
        "\n",
        "Se utilizan para representar colecciones no ordenadas de elementos, donde cada elemento está asociado con una clave única. Los diccionarios se definen utilizando llaves ({ }) y los elementos se definen en pares clave-valor, separados por comas. Por ejemplo:"
      ],
      "metadata": {
        "id": "dowhB8iKSUkg"
      }
    },
    {
      "cell_type": "code",
      "source": [
        "datos = {'nombre': 'Wilson', 'edad': 30, 'profesion': 'Ingeniero'}\n",
        "print(datos)"
      ],
      "metadata": {
        "colab": {
          "base_uri": "https://localhost:8080/"
        },
        "id": "yRrm6mp_SZ5b",
        "outputId": "774da664-3933-4210-832f-a5b1ca4f9d4b"
      },
      "execution_count": null,
      "outputs": [
        {
          "output_type": "stream",
          "name": "stdout",
          "text": [
            "{'nombre': 'Wilson', 'edad': 30, 'profesion': 'Ingeniero'}\n"
          ]
        }
      ]
    },
    {
      "cell_type": "markdown",
      "source": [
        "## Operadores en Python"
      ],
      "metadata": {
        "id": "5P5-3bEwfn6_"
      }
    },
    {
      "cell_type": "markdown",
      "source": [
        "Existen varios operadores que se utilizan para realizar operaciones entre variables y valores. A continuación, se describen los principales operadores en Python y su función:"
      ],
      "metadata": {
        "id": "H0XfYWiHfsKg"
      }
    },
    {
      "cell_type": "markdown",
      "source": [
        "Operadores en lenguajes de programación:\n",
        "![Eu_0dWTXEAQEFIC.jpg](data:image/jpeg;base64,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)"
      ],
      "metadata": {
        "id": "i4RQ_5Yb-zlv"
      }
    },
    {
      "cell_type": "markdown",
      "source": [
        "### Operadores aritméticos:\n",
        "\n",
        "Se utilizan para realizar operaciones matemáticas básicas, como suma, resta, multiplicación y división. Los operadores aritméticos en Python son los siguientes:"
      ],
      "metadata": {
        "id": "OPa_ShUlfyj1"
      }
    },
    {
      "cell_type": "code",
      "source": [
        "# Suma (+): se utiliza para sumar dos valores o variables.\n",
        "\n",
        "a = 5\n",
        "b = 3\n",
        "c = a + b\n",
        "c"
      ],
      "metadata": {
        "colab": {
          "base_uri": "https://localhost:8080/"
        },
        "id": "KUQkatTNf5b_",
        "outputId": "84c1474d-47e1-4a81-c0cd-c16daa698ee3"
      },
      "execution_count": null,
      "outputs": [
        {
          "output_type": "execute_result",
          "data": {
            "text/plain": [
              "8"
            ]
          },
          "metadata": {},
          "execution_count": 36
        }
      ]
    },
    {
      "cell_type": "code",
      "source": [
        "# Resta (-): se utiliza para restar dos valores o variables.\n",
        "\n",
        "a = 5\n",
        "b = 3\n",
        "c = a - b\n",
        "c"
      ],
      "metadata": {
        "colab": {
          "base_uri": "https://localhost:8080/"
        },
        "id": "Tu0YllZ7gbZ_",
        "outputId": "53593bc4-aedd-434d-b848-450f2525c85a"
      },
      "execution_count": null,
      "outputs": [
        {
          "output_type": "execute_result",
          "data": {
            "text/plain": [
              "2"
            ]
          },
          "metadata": {},
          "execution_count": 37
        }
      ]
    },
    {
      "cell_type": "code",
      "source": [
        "# Multiplicación (*): se utiliza para multiplicar dos valores o variables.\n",
        "\n",
        "a = 5\n",
        "b = 3\n",
        "c = a * b\n",
        "c"
      ],
      "metadata": {
        "colab": {
          "base_uri": "https://localhost:8080/"
        },
        "id": "rqKGo7gSg2-i",
        "outputId": "be170e3e-703d-4b61-fcca-0d40640948cf"
      },
      "execution_count": null,
      "outputs": [
        {
          "output_type": "execute_result",
          "data": {
            "text/plain": [
              "15"
            ]
          },
          "metadata": {},
          "execution_count": 38
        }
      ]
    },
    {
      "cell_type": "code",
      "source": [
        "# División (/): se utiliza para dividir dos valores o variables.\n",
        "\n",
        "a = 5\n",
        "b = 3\n",
        "c = a / b\n",
        "c"
      ],
      "metadata": {
        "colab": {
          "base_uri": "https://localhost:8080/"
        },
        "id": "39cX05eZhHyH",
        "outputId": "7e4f50ff-7ccd-4c86-9ae4-d562add76118"
      },
      "execution_count": null,
      "outputs": [
        {
          "output_type": "execute_result",
          "data": {
            "text/plain": [
              "1.6666666666666667"
            ]
          },
          "metadata": {},
          "execution_count": 39
        }
      ]
    },
    {
      "cell_type": "code",
      "source": [
        "# División entera (//): se utiliza para obtener el cociente de la división entre dos valores o variables, eliminando cualquier residuo.\n",
        "\n",
        "a = 5\n",
        "b = 3\n",
        "c = a // b\n",
        "c"
      ],
      "metadata": {
        "colab": {
          "base_uri": "https://localhost:8080/"
        },
        "id": "KkaWr-IlhX6u",
        "outputId": "352e6cdc-9425-447a-804d-307031cbf183"
      },
      "execution_count": null,
      "outputs": [
        {
          "output_type": "execute_result",
          "data": {
            "text/plain": [
              "1"
            ]
          },
          "metadata": {},
          "execution_count": 40
        }
      ]
    },
    {
      "cell_type": "code",
      "source": [
        "# Módulo (%): se utiliza para obtener el residuo de la división entre dos valores o variables.\n",
        "\n",
        "a = 5\n",
        "b = 3\n",
        "c = a % b\n",
        "c"
      ],
      "metadata": {
        "colab": {
          "base_uri": "https://localhost:8080/"
        },
        "id": "bTkUdryShgx5",
        "outputId": "f9696692-7fef-4d95-995d-c65d413734a7"
      },
      "execution_count": null,
      "outputs": [
        {
          "output_type": "execute_result",
          "data": {
            "text/plain": [
              "2"
            ]
          },
          "metadata": {},
          "execution_count": 41
        }
      ]
    },
    {
      "cell_type": "code",
      "source": [
        "# Potencia (**): se utiliza para elevar un valor o variable a una potencia.\n",
        "\n",
        "a = 5\n",
        "b = 3\n",
        "c = a ** b\n",
        "c"
      ],
      "metadata": {
        "colab": {
          "base_uri": "https://localhost:8080/"
        },
        "id": "SKIVO-Gvh9va",
        "outputId": "8adba5fa-a3a7-42bb-b870-6775fad584f7"
      },
      "execution_count": null,
      "outputs": [
        {
          "output_type": "execute_result",
          "data": {
            "text/plain": [
              "125"
            ]
          },
          "metadata": {},
          "execution_count": 43
        }
      ]
    },
    {
      "cell_type": "markdown",
      "source": [
        "### Operadores de asignación:\n",
        "\n",
        "Se utilizan para asignar valores a variables. Los operadores de asignación en Python son los siguientes:"
      ],
      "metadata": {
        "id": "rkdC0LKgiK5a"
      }
    },
    {
      "cell_type": "code",
      "source": [
        "# Asignación (=): se utiliza para asignar un valor a una variable.\n",
        "\n",
        "a = 5\n",
        "a"
      ],
      "metadata": {
        "colab": {
          "base_uri": "https://localhost:8080/"
        },
        "id": "zNR3vXasiUek",
        "outputId": "485e4f74-89b5-4e22-d1dd-d979c3311252"
      },
      "execution_count": null,
      "outputs": [
        {
          "output_type": "execute_result",
          "data": {
            "text/plain": [
              "5"
            ]
          },
          "metadata": {},
          "execution_count": 44
        }
      ]
    },
    {
      "cell_type": "code",
      "source": [
        "# Asignación con suma (+=): se utiliza para sumar un valor a una variable y asignar el resultado a la misma variable.\n",
        "\n",
        "a = 5\n",
        "a += 3\n",
        "a"
      ],
      "metadata": {
        "colab": {
          "base_uri": "https://localhost:8080/"
        },
        "id": "qeHqxt9nix95",
        "outputId": "6927f4c7-302f-4de3-b79e-159b72da47e4"
      },
      "execution_count": null,
      "outputs": [
        {
          "output_type": "execute_result",
          "data": {
            "text/plain": [
              "8"
            ]
          },
          "metadata": {},
          "execution_count": 45
        }
      ]
    },
    {
      "cell_type": "code",
      "source": [
        "# Asignación con resta (-=): se utiliza para restar un valor a una variable y asignar el resultado a la misma variable.\n",
        "\n",
        "a = 5\n",
        "a -= 3\n",
        "a"
      ],
      "metadata": {
        "colab": {
          "base_uri": "https://localhost:8080/"
        },
        "id": "BOATTRuei-7J",
        "outputId": "c34e1d5e-8ce8-49e6-97b7-000d3d764bdf"
      },
      "execution_count": null,
      "outputs": [
        {
          "output_type": "execute_result",
          "data": {
            "text/plain": [
              "2"
            ]
          },
          "metadata": {},
          "execution_count": 46
        }
      ]
    },
    {
      "cell_type": "code",
      "source": [
        "# Asignación con multiplicación (*=): se utiliza para multiplicar un valor a una variable y asignar el resultado a la misma variable.\n",
        "\n",
        "a = 5\n",
        "a *= 3\n",
        "a"
      ],
      "metadata": {
        "colab": {
          "base_uri": "https://localhost:8080/"
        },
        "id": "dPxgkxWpjVhy",
        "outputId": "f2bcdb52-1591-4503-b948-674f6ae662ad"
      },
      "execution_count": null,
      "outputs": [
        {
          "output_type": "execute_result",
          "data": {
            "text/plain": [
              "15"
            ]
          },
          "metadata": {},
          "execution_count": 47
        }
      ]
    },
    {
      "cell_type": "code",
      "source": [
        "# Asignación con división (/=): se utiliza para dividir un valor a una variable y asignar el resultado a la misma variable.\n",
        "\n",
        "a = 5\n",
        "a /= 3\n",
        "a"
      ],
      "metadata": {
        "colab": {
          "base_uri": "https://localhost:8080/"
        },
        "id": "69O_Kt56jgOO",
        "outputId": "438f6dad-e2e4-42f3-d3d7-258864cd97b0"
      },
      "execution_count": null,
      "outputs": [
        {
          "output_type": "execute_result",
          "data": {
            "text/plain": [
              "1.6666666666666667"
            ]
          },
          "metadata": {},
          "execution_count": 48
        }
      ]
    },
    {
      "cell_type": "markdown",
      "source": [
        "### Operadores de comparación:\n",
        "\n",
        "Se utilizan para comparar dos valores o variables y devolver un valor booleano (verdadero o falso). Los operadores de comparación en Python son los siguientes:"
      ],
      "metadata": {
        "id": "YkbHU2AfjmPs"
      }
    },
    {
      "cell_type": "code",
      "source": [
        "# Operador de igualdad (==): este operador devuelve True si los dos valores o variables son iguales, y False si no lo son.\n",
        "\n",
        "a = 5\n",
        "b = 3\n",
        "c = a == b\n",
        "c"
      ],
      "metadata": {
        "colab": {
          "base_uri": "https://localhost:8080/"
        },
        "id": "lGzD8_yqjpKQ",
        "outputId": "6850263f-d593-47db-a127-89edb334c73a"
      },
      "execution_count": null,
      "outputs": [
        {
          "output_type": "execute_result",
          "data": {
            "text/plain": [
              "False"
            ]
          },
          "metadata": {},
          "execution_count": 49
        }
      ]
    },
    {
      "cell_type": "code",
      "source": [
        "# Operador de desigualdad (!=): este operador devuelve True si los dos valores o variables son diferentes, y False si son iguales.\n",
        "\n",
        "a = 5\n",
        "b = 7\n",
        "c = (a != b)\n",
        "print(c) # devuelve True"
      ],
      "metadata": {
        "colab": {
          "base_uri": "https://localhost:8080/"
        },
        "id": "E47OTULDkfeW",
        "outputId": "84596202-be97-4de6-a629-78b32fecc6d3"
      },
      "execution_count": null,
      "outputs": [
        {
          "output_type": "stream",
          "name": "stdout",
          "text": [
            "True\n"
          ]
        }
      ]
    },
    {
      "cell_type": "code",
      "source": [
        "# Operador de mayor que (>): este operador devuelve True si el primer valor o variable es mayor que el segundo, y False si no lo es.\n",
        "\n",
        "a = 5\n",
        "b = 7\n",
        "c = (a > b)\n",
        "print(c) # devuelve False"
      ],
      "metadata": {
        "colab": {
          "base_uri": "https://localhost:8080/"
        },
        "id": "RuzbEgH8kkHb",
        "outputId": "08206418-5960-48ae-f6e1-e2b99debf970"
      },
      "execution_count": null,
      "outputs": [
        {
          "output_type": "stream",
          "name": "stdout",
          "text": [
            "False\n"
          ]
        }
      ]
    },
    {
      "cell_type": "code",
      "source": [
        "# Operador de menor que (<): este operador devuelve True si el primer valor o variable es menor que el segundo, y False si no lo es.\n",
        "\n",
        "a = 5\n",
        "b = 7\n",
        "c = (a < b)\n",
        "print(c) # devuelve True"
      ],
      "metadata": {
        "colab": {
          "base_uri": "https://localhost:8080/"
        },
        "id": "C-QfPIlektYS",
        "outputId": "667f68be-3eb9-40a6-eb5d-b4790cdb175a"
      },
      "execution_count": null,
      "outputs": [
        {
          "output_type": "stream",
          "name": "stdout",
          "text": [
            "True\n"
          ]
        }
      ]
    },
    {
      "cell_type": "code",
      "source": [
        "# Operador de mayor o igual que (>=): este operador devuelve True si el primer valor o variable es mayor o igual que el segundo, y False si no lo es.\n",
        "\n",
        "a = 5\n",
        "b = 7\n",
        "c = (a >= b)\n",
        "print(c) # devuelve False"
      ],
      "metadata": {
        "colab": {
          "base_uri": "https://localhost:8080/"
        },
        "id": "dHtwy60ikyAp",
        "outputId": "ba45d5e9-b9d1-4581-a67a-f0ec5b63c328"
      },
      "execution_count": null,
      "outputs": [
        {
          "output_type": "stream",
          "name": "stdout",
          "text": [
            "False\n"
          ]
        }
      ]
    },
    {
      "cell_type": "code",
      "source": [
        "# Operador de menor o igual que (<=): este operador devuelve True si el primer valor o variable es menor o igual que el segundo, y False si no lo es.\n",
        "\n",
        "a = 5\n",
        "b = 7\n",
        "c = (a <= b)\n",
        "print(c) # devuelve True"
      ],
      "metadata": {
        "colab": {
          "base_uri": "https://localhost:8080/"
        },
        "id": "fHIJdHEQk2IX",
        "outputId": "8a80fa30-f4b0-40e1-8e8d-3275c7e2ff69"
      },
      "execution_count": null,
      "outputs": [
        {
          "output_type": "stream",
          "name": "stdout",
          "text": [
            "True\n"
          ]
        }
      ]
    },
    {
      "cell_type": "markdown",
      "source": [
        "## Ejercicios básicos"
      ],
      "metadata": {
        "id": "fpUU0DoDlOlT"
      }
    },
    {
      "cell_type": "code",
      "source": [
        "# Ejercicio 1: Escribir un programa que pregunte el nombre del usuario en la consola y después de que el usuario lo introduzca muestre por pantalla la cadena ¡Hola <nombre>!, donde <nombre> es el nombre que el usuario haya introducido.\n",
        "\n",
        "nombre = input(\"Ingresa tu nombre: \")\n",
        "\n",
        "print(\"¡Hola \" + nombre + \"!\")\n",
        "\n",
        "print(\"¡Hola\", nombre + \"!\")\n",
        "\n",
        "print(f\"¡Hola {nombre}!\")"
      ],
      "metadata": {
        "colab": {
          "base_uri": "https://localhost:8080/"
        },
        "id": "N8dUQdTMlR6k",
        "outputId": "ee34434f-7397-489a-ba81-c3c424855601"
      },
      "execution_count": null,
      "outputs": [
        {
          "output_type": "stream",
          "name": "stdout",
          "text": [
            "Ingresa tu nombre: Wilson Espitia\n",
            "¡Hola Wilson Espitia!\n",
            "¡Hola Wilson Espitia!\n",
            "¡Hola Wilson Espitia!\n"
          ]
        }
      ]
    },
    {
      "cell_type": "code",
      "source": [
        "# Ejercicio 2: Escribir un programa que pregunte el nombre del usuario en la consola y después de que el usuario lo introduzca muestre por pantalla <NOMBRE> tiene <n> letras, donde <NOMBRE> es el nombre de usuario en mayúsculas y <n> es el número de letras que tienen el nombre.\n",
        "\n",
        "# Forma sencilla\n",
        "\n",
        "nombre = input(\"Ingresa tu nombre: \")\n",
        "nombre = nombre.upper()\n",
        "largo = len(nombre)\n",
        "\n",
        "# Concatenar\n",
        "print(\"El nombre:\", nombre, \"tiene\", largo, \"letras\")"
      ],
      "metadata": {
        "colab": {
          "base_uri": "https://localhost:8080/"
        },
        "id": "vgbNRKR1lry6",
        "outputId": "3b2f9cbc-6c90-462c-8ade-b2ef92d90930"
      },
      "execution_count": null,
      "outputs": [
        {
          "output_type": "stream",
          "name": "stdout",
          "text": [
            "Ingresa tu nombre: wilson\n",
            "El nombre: WILSON tiene 6 letras\n"
          ]
        }
      ]
    },
    {
      "cell_type": "markdown",
      "source": [
        "A continuación, se explica línea por línea el funcionamiento del código anterior:\n",
        "\n",
        "* nombre = input(\"Ingresa tu nombre: \"): la función input() permite solicitar al usuario que ingrese un valor desde la consola. En este caso, se le solicita al usuario que ingrese su nombre y se guarda en una variable llamada nombre.\n",
        "\n",
        "* nombre = nombre.upper(): el método upper() de Python es utilizado para convertir una cadena de caracteres a mayúsculas. En este caso, se aplica el método a la variable nombre que contiene el nombre ingresado por el usuario.\n",
        "\n",
        "* largo = len(nombre): la función len() de Python permite calcular la longitud de una cadena de caracteres (el número de caracteres que contiene). En este caso, se aplica la función a la variable nombre que contiene el nombre en mayúsculas y se guarda el resultado en una variable llamada largo."
      ],
      "metadata": {
        "id": "q2qT309KmIDh"
      }
    },
    {
      "cell_type": "code",
      "source": [
        "# Ejercicio 3: Escribir un programa que pregunte al usuario por el número de horas trabajadas y el coste por hora. Después debe mostrar por pantalla la paga que le corresponde.\n",
        "\n",
        "horas = int(input(\"Ingresar horas trabajadas: \"))\n",
        "costo = int(input(\"Ingresar el costo por hora: \"))\n",
        "\n",
        "resultado = horas * costo\n",
        "\n",
        "print(f\"El pago que le corresponde es: ${resultado}\")"
      ],
      "metadata": {
        "colab": {
          "base_uri": "https://localhost:8080/"
        },
        "id": "Y9c8Zb93mTkx",
        "outputId": "4af7f011-60a7-4db0-e3f2-abf54243449f"
      },
      "execution_count": null,
      "outputs": [
        {
          "output_type": "stream",
          "name": "stdout",
          "text": [
            "Ingresar horas trabajadas: 8\n",
            "Ingresar el costo por hora: 2500\n",
            "El pago que le corresponde es: $20000\n"
          ]
        }
      ]
    },
    {
      "cell_type": "markdown",
      "source": [
        "A continuación, se explica línea por línea el funcionamiento del código:\n",
        "\n",
        "* horas = int(input(\"Ingresar horas trabajadas: \")): la función input() se utiliza para solicitar al usuario que ingrese las horas trabajadas. La función int() se utiliza para convertir el valor ingresado a un número entero y se guarda en la variable horas.\n",
        "\n",
        "* costo = int(input(\"Ingresar el costo por hora: \")): la función input() se utiliza para solicitar al usuario que ingrese el costo por hora. La función int() se utiliza para convertir el valor ingresado a un número entero y se guarda en la variable costo.\n",
        "\n",
        "* resultado = horas * costo: se realiza el cálculo del pago multiplicando las horas trabajadas por el costo por hora y se guarda el resultado en la variable resultado.\n",
        "\n",
        "- print(f\"El pago que le corresponde es: ${resultado}\"): se utiliza la función print() para mostrar el resultado en la consola. Se utiliza una cadena de formato (f-string) que incluye el valor de la variable resultado y se muestra el resultado con un mensaje que indica el pago correspondiente. El símbolo $ se utiliza para indicar la moneda en la que se está realizando el pago."
      ],
      "metadata": {
        "id": "BCm7iBbNmyPc"
      }
    },
    {
      "cell_type": "code",
      "source": [
        "# Ejercicio 4: Pedir el precio de un producto y calcular su IVA (21%) y su valor original\n",
        "\n",
        "# Concepto matemático\n",
        "\n",
        "precio = int(input(\"Ingresar precio: \"))\n",
        "\n",
        "# iva = (precio * 21) / 100\n",
        "iva = precio * 0.21\n",
        "original = precio - iva\n",
        "\n",
        "print(\"El IVA del producto es:\", iva)\n",
        "print(\"Y su valor original es:\", original)"
      ],
      "metadata": {
        "colab": {
          "base_uri": "https://localhost:8080/"
        },
        "id": "Nsw17osKm4fb",
        "outputId": "ae1fc9d3-93a8-45b4-f29a-fb1626e7384a"
      },
      "execution_count": null,
      "outputs": [
        {
          "output_type": "stream",
          "name": "stdout",
          "text": [
            "Ingresar precio: 20000\n",
            "El IVA del producto es: 4200.0\n",
            "Y su valor original es: 15800.0\n"
          ]
        }
      ]
    },
    {
      "cell_type": "markdown",
      "source": [
        "## Estructuras de Control"
      ],
      "metadata": {
        "id": "bCpCFSUwpdM3"
      }
    },
    {
      "cell_type": "markdown",
      "source": [
        "Los flujos de control en Python son estructuras de programación que permiten controlar el orden en que se ejecutan las instrucciones dentro de un programa. Estas estructuras se utilizan para tomar decisiones, repetir tareas y manejar errores."
      ],
      "metadata": {
        "id": "FSC1gBuRpgHd"
      }
    },
    {
      "cell_type": "markdown",
      "source": [
        "Los tres flujos de control principales en Python son:\n",
        "\n",
        "* Estructuras de control de decisión (condicionales): permiten ejecutar una o varias instrucciones de código en función de una o varias condiciones que se evalúan como verdaderas o falsas. Los condicionales en Python se implementan con las estructuras de control if, elif y else.\n",
        "\n",
        "* Estructuras de control de repetición (bucles): permiten ejecutar un conjunto de instrucciones varias veces. Los bucles en Python se implementan con las estructuras de control while y for.\n",
        "\n",
        "* Estructuras de control de excepciones: permiten manejar errores y excepciones que puedan ocurrir durante la ejecución del programa. Las estructuras de control de excepciones en Python se implementan con las palabras clave try, except, else y finally.\n",
        "\n",
        "En resumen, los flujos de control son fundamentales para crear programas más complejos y dinámicos, y permiten a los desarrolladores controlar la lógica y el comportamiento de sus programas.\n",
        "\n",
        "![image.png](data:image/png;base64,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)"
      ],
      "metadata": {
        "id": "muIVO5nqplMZ"
      }
    },
    {
      "cell_type": "markdown",
      "source": [
        "### Ciclo While / Bucle while"
      ],
      "metadata": {
        "id": "sgUp9TPwxwpr"
      }
    },
    {
      "cell_type": "markdown",
      "source": [
        "El ciclo While (o bucle while) es una estructura de control de repetición en Python que se utiliza para ejecutar un conjunto de instrucciones mientras se cumple una determinada condición. La estructura de un ciclo While consta de una expresión booleana seguida de un bloque de código indentado que se ejecuta repetidamente mientras la condición se evalúa como verdadera."
      ],
      "metadata": {
        "id": "YHU4ztn8yEvf"
      }
    },
    {
      "cell_type": "code",
      "source": [
        "# Ejemplo de ciclo While en Python\n",
        "\n",
        "# Definimos una variable\n",
        "contador = 0\n",
        "\n",
        "# Usamos un ciclo while para imprimir los números del 0 al 4\n",
        "while contador < 5:\n",
        "    print(contador)\n",
        "    contador += 1"
      ],
      "metadata": {
        "colab": {
          "base_uri": "https://localhost:8080/"
        },
        "id": "iuJl4u4PyFh4",
        "outputId": "44544116-5104-4bfa-f2db-363d7a9c9f99"
      },
      "execution_count": null,
      "outputs": [
        {
          "output_type": "stream",
          "name": "stdout",
          "text": [
            "0\n",
            "1\n",
            "2\n",
            "3\n",
            "4\n"
          ]
        }
      ]
    },
    {
      "cell_type": "markdown",
      "source": [
        "En este ejemplo, se define una variable \"contador\" con un valor inicial de cero. Luego, se utiliza un ciclo While para imprimir los números del 0 al 4. La condición para el ciclo While es que el contador sea menor que 5. Mientras se cumpla esta condición, el bloque de código indentado se ejecutará. En cada iteración, se imprime el valor actual del contador y luego se incrementa en 1. El ciclo se repetirá hasta que la condición se evalúe como falsa, en este caso, cuando el contador llega a 5.\n",
        "\n",
        "El ciclo While es útil cuando se necesita repetir un conjunto de instrucciones un número indefinido de veces mientras se cumpla una determinada condición. Sin embargo, es importante tener en cuenta que si la condición nunca se cumple, el ciclo se ejecutará infinitamente, lo que podría llevar a errores en el programa. Por lo tanto, es importante asegurarse de que la condición se pueda cumplir y eventualmente se evalúe como falsa para evitar bucles infinitos."
      ],
      "metadata": {
        "id": "_BNoJAUkyJOP"
      }
    },
    {
      "cell_type": "code",
      "source": [
        "# Ejemplo de ciclo While en Python\n",
        "\n",
        "# Definimos una variable\n",
        "numero = 7\n",
        "\n",
        "# Usamos un ciclo while para encontrar el primer número par mayor o igual que el número dado\n",
        "while numero % 2 != 0:\n",
        "    numero += 1\n",
        "\n",
        "print(\"El primer número par mayor o igual que\", numero, \"es\", numero)"
      ],
      "metadata": {
        "colab": {
          "base_uri": "https://localhost:8080/"
        },
        "id": "2xpdAdH2yKBX",
        "outputId": "aab36113-4bb8-48e8-90fa-c63bb4fc55dd"
      },
      "execution_count": null,
      "outputs": [
        {
          "output_type": "stream",
          "name": "stdout",
          "text": [
            "El primer número par mayor o igual que 8 es 8\n"
          ]
        }
      ]
    },
    {
      "cell_type": "markdown",
      "source": [
        "En este ejemplo, se define una variable llamada \"numero\" con un valor inicial de 7. Luego, se utiliza un ciclo While para encontrar el primer número par mayor o igual que el número dado. La condición para el ciclo While es que el resto de la división del número actual entre 2 sea diferente de cero, es decir, que el número actual no sea par. Mientras se cumpla esta condición, el bloque de código indentado se ejecutará. En cada iteración, se incrementa el valor de la variable \"numero\" en 1. El ciclo se repetirá hasta que se encuentre un número par, en cuyo caso la condición del ciclo se evalúa como falsa y el ciclo se detiene.\n",
        "\n",
        "Después del ciclo While, se imprime un mensaje que indica cuál es el primer número par mayor o igual que el número inicial. En este caso, el resultado sería \"El primer número par mayor o igual que 7 es 8\".\n",
        "\n",
        "Este es solo un ejemplo de cómo se puede utilizar el ciclo While en Python para realizar una tarea específica mientras se cumple una determinada condición. El ciclo While es una estructura de control de repetición muy útil en Python que se utiliza con frecuencia en la programación."
      ],
      "metadata": {
        "id": "Wo6uu2APyXMu"
      }
    },
    {
      "cell_type": "code",
      "source": [
        "numero = 1\n",
        "while(numero < 5):\n",
        "    algo = input(\"Algo: \")\n",
        "    numero += 1\n",
        "print(\"Se terminó\")"
      ],
      "metadata": {
        "id": "TKAyeH9OybR0",
        "colab": {
          "base_uri": "https://localhost:8080/"
        },
        "outputId": "27fff3e9-1492-445c-e7ed-41f62466779b"
      },
      "execution_count": null,
      "outputs": [
        {
          "output_type": "stream",
          "name": "stdout",
          "text": [
            "Algo: 1\n",
            "Algo: 2\n",
            "Algo: 3\n",
            "Algo: 4\n",
            "Se terminó\n"
          ]
        }
      ]
    },
    {
      "cell_type": "markdown",
      "source": [
        "### Ciclo for / Bucle for"
      ],
      "metadata": {
        "id": "MWpzedugyopW"
      }
    },
    {
      "cell_type": "markdown",
      "source": [
        "El ciclo for (o bucle for) es una estructura de control de repetición en Python que se utiliza para iterar sobre una secuencia de elementos y realizar una tarea para cada uno de ellos. La estructura de un ciclo for consta de una variable de iteración seguida de la palabra clave \"in\", una secuencia de elementos y un bloque de código indentado que se ejecuta para cada elemento de la secuencia."
      ],
      "metadata": {
        "id": "6vACcUoMythB"
      }
    },
    {
      "cell_type": "code",
      "source": [
        "# Ejemplo de ciclo for en Python\n",
        "\n",
        "# Definimos una lista de números\n",
        "numeros = [1, 2, 3, 4, 5]\n",
        "\n",
        "# Usamos un ciclo for para imprimir los números de la lista\n",
        "for numero in numeros:\n",
        "    print(numero)\n"
      ],
      "metadata": {
        "colab": {
          "base_uri": "https://localhost:8080/"
        },
        "id": "OmCpgVQ0zFnt",
        "outputId": "5677aedd-f6e3-4512-dc9e-8c6cce8a6068"
      },
      "execution_count": null,
      "outputs": [
        {
          "output_type": "stream",
          "name": "stdout",
          "text": [
            "1\n",
            "2\n",
            "3\n",
            "4\n",
            "5\n"
          ]
        }
      ]
    },
    {
      "cell_type": "markdown",
      "source": [
        "En este ejemplo, se define una lista llamada \"numeros\" con los valores del 1 al 5. Luego, se utiliza un ciclo for para imprimir cada número de la lista. La variable de iteración \"numero\" toma el valor de cada elemento de la lista en cada iteración del ciclo for. El bloque de código indentado se ejecuta para cada valor de la variable de iteración. En este caso, el bloque simplemente imprime el valor de \"numero\" en la consola.\n",
        "\n",
        "El ciclo for es útil cuando se necesita iterar sobre una secuencia de elementos y realizar una tarea para cada uno de ellos. También se puede utilizar para iterar sobre cadenas de texto, listas, tuplas, diccionarios y otros tipos de datos en Python. En cada iteración, la variable de iteración toma el valor del siguiente elemento de la secuencia, lo que facilita el procesamiento de la información."
      ],
      "metadata": {
        "id": "y0pTooh2zKIG"
      }
    },
    {
      "cell_type": "code",
      "source": [
        "# Ejemplo de ciclo for en Python\n",
        "\n",
        "# Definimos una lista de palabras\n",
        "palabras = [\"Python\", \"es\", \"un\", \"lenguaje\", \"de\", \"programación\"]\n",
        "\n",
        "# Usamos un ciclo for para imprimir cada palabra en mayúsculas\n",
        "for palabra in palabras:\n",
        "    print(palabra.upper())"
      ],
      "metadata": {
        "colab": {
          "base_uri": "https://localhost:8080/"
        },
        "id": "maV7xm5SzK3d",
        "outputId": "0a8cbd64-6b5f-4c62-b2a5-8a6467cbaac3"
      },
      "execution_count": null,
      "outputs": [
        {
          "output_type": "stream",
          "name": "stdout",
          "text": [
            "PYTHON\n",
            "ES\n",
            "UN\n",
            "LENGUAJE\n",
            "DE\n",
            "PROGRAMACIÓN\n"
          ]
        }
      ]
    },
    {
      "cell_type": "markdown",
      "source": [
        "En este ejemplo, se define una lista de palabras llamada \"palabras\". Luego, se utiliza un ciclo for para imprimir cada palabra en mayúsculas. En cada iteración del ciclo, la variable de iteración \"palabra\" toma el valor de cada elemento de la lista. El bloque de código indentado se ejecuta para cada valor de la variable de iteración, en este caso, para cada palabra en la lista. El método \"upper()\" se utiliza para convertir cada palabra a mayúsculas antes de imprimirla en la consola.\n",
        "\n",
        "El resultado de este código sería la impresión de cada palabra en la lista en mayúsculas.\n",
        "\n",
        "Este es solo otro ejemplo de cómo se puede utilizar el ciclo for en Python para iterar sobre una secuencia de elementos y realizar una tarea específica para cada uno de ellos. El ciclo for es una estructura de control de repetición muy útil en Python que se utiliza con frecuencia en la programación."
      ],
      "metadata": {
        "id": "Pg8RhGXizW_G"
      }
    },
    {
      "cell_type": "code",
      "source": [
        "lista = [1,2,3,4,5]\n",
        "tupla = (1,2,3,4)\n",
        "diccionario = {1:1, 2:2, 3:3}\n",
        "texto = \"hola\"\n",
        "numero = str(12345)\n",
        "\n",
        "# Iterador - iteración\n",
        "\"\"\"for letra in texto:\n",
        "    print(\"Letra:\", letra)\"\"\"\n",
        "\n",
        "# Con rangos\n",
        "\"\"\"for numero in range(-5, 6, 5):\n",
        "    print(numero)\"\"\"\n",
        "\n",
        "# Enumeracion\n",
        "for enumerador, valor in enumerate(texto):\n",
        "    print(\"La posición es:\", enumerador)\n",
        "    print(\"Y la letra es:\", valor)\n",
        "\n",
        "# break\n",
        "for numero in range(30):\n",
        "    if numero == 25:\n",
        "        break\n",
        "    print(numero)"
      ],
      "metadata": {
        "id": "0VZeHXNRzZMk",
        "colab": {
          "base_uri": "https://localhost:8080/"
        },
        "outputId": "8d3b636b-aeb0-4969-9436-45d71ae43a51"
      },
      "execution_count": null,
      "outputs": [
        {
          "output_type": "stream",
          "name": "stdout",
          "text": [
            "La posición es: 0\n",
            "Y la letra es: h\n",
            "La posición es: 1\n",
            "Y la letra es: o\n",
            "La posición es: 2\n",
            "Y la letra es: l\n",
            "La posición es: 3\n",
            "Y la letra es: a\n",
            "0\n",
            "1\n",
            "2\n",
            "3\n",
            "4\n",
            "5\n",
            "6\n",
            "7\n",
            "8\n",
            "9\n",
            "10\n",
            "11\n",
            "12\n",
            "13\n",
            "14\n",
            "15\n",
            "16\n",
            "17\n",
            "18\n",
            "19\n",
            "20\n",
            "21\n",
            "22\n",
            "23\n",
            "24\n"
          ]
        }
      ]
    },
    {
      "cell_type": "markdown",
      "source": [
        "### Ciclo IF-ELIF-ELSE"
      ],
      "metadata": {
        "id": "fLWEQxiqz41G"
      }
    },
    {
      "cell_type": "markdown",
      "source": [
        "El ciclo if-elif-else es una estructura de control de decisión en Python que se utiliza para tomar decisiones basadas en condiciones. Esta estructura de control permite al programa ejecutar diferentes bloques de código según se cumplan ciertas condiciones. La estructura básica de un ciclo if-elif-else consta de una o más condiciones if, seguidas de una o más condiciones elif (opcional) y una condición else (opcional). El bloque de código que se ejecuta depende de qué condición se cumple primero."
      ],
      "metadata": {
        "id": "yOSnK63n0O3B"
      }
    },
    {
      "cell_type": "code",
      "source": [
        "# Ejemplo de ciclo if-elif-else en Python\n",
        "\n",
        "# Definimos una variable numérica\n",
        "numero = 10\n",
        "\n",
        "# Usamos una estructura if-elif-else para determinar si el número es positivo, negativo o cero\n",
        "if numero > 0:\n",
        "    print(\"El número es positivo\")\n",
        "elif numero < 0:\n",
        "    print(\"El número es negativo\")\n",
        "else:\n",
        "    print(\"El número es cero\")\n"
      ],
      "metadata": {
        "colab": {
          "base_uri": "https://localhost:8080/"
        },
        "id": "RP9zEJIA0RWE",
        "outputId": "f9ab678a-4b80-402d-c59a-80b7add22b34"
      },
      "execution_count": null,
      "outputs": [
        {
          "output_type": "stream",
          "name": "stdout",
          "text": [
            "El número es positivo\n"
          ]
        }
      ]
    },
    {
      "cell_type": "markdown",
      "source": [
        "En este ejemplo, se define una variable numérica llamada \"numero\" con el valor 10. Luego, se utiliza una estructura if-elif-else para determinar si el número es positivo, negativo o cero. Si la variable \"numero\" es mayor que cero, el bloque de código dentro del primer if se ejecutará e imprimirá el mensaje \"El número es positivo\" en la consola. Si la variable \"numero\" es menor que cero, se ejecutará el bloque de código dentro de la condición elif correspondiente e imprimirá el mensaje \"El número es negativo\". Si la variable \"numero\" es igual a cero, se ejecutará el bloque de código dentro del else e imprimirá el mensaje \"El número es cero\".\n",
        "\n",
        "El resultado de este código sería la impresión del mensaje \"El número es positivo\" en la consola, ya que el valor de \"numero\" es mayor que cero. Si cambiamos el valor de \"numero\" a un valor negativo o cero, el programa imprimiría los mensajes correspondientes según la condición que se cumple.\n",
        "\n",
        "El ciclo if-elif-else es una estructura de control muy útil en Python para tomar decisiones basadas en condiciones. Puede utilizarse para realizar diferentes tareas según se cumplan ciertas condiciones, lo que permite que el programa se comporte de manera inteligente y dinámica."
      ],
      "metadata": {
        "id": "uCwaSuqV0Uw9"
      }
    },
    {
      "cell_type": "code",
      "source": [
        "# Ejemplo de ciclo if-elif-else en Python\n",
        "\n",
        "# Definimos una variable para la hora del día (en formato de 24 horas)\n",
        "hora = 15\n",
        "\n",
        "# Usamos una estructura if-elif-else para determinar la parte del día\n",
        "if hora < 12:\n",
        "    print(\"Buenos días\")\n",
        "elif hora >= 12 and hora < 18:\n",
        "    print(\"Buenas tardes\")\n",
        "else:\n",
        "    print(\"Buenas noches\")"
      ],
      "metadata": {
        "colab": {
          "base_uri": "https://localhost:8080/"
        },
        "id": "jrUMymmQ0W4o",
        "outputId": "25ea2522-de55-41dd-d9e5-81fbd302933b"
      },
      "execution_count": null,
      "outputs": [
        {
          "output_type": "stream",
          "name": "stdout",
          "text": [
            "Buenas tardes\n"
          ]
        }
      ]
    },
    {
      "cell_type": "markdown",
      "source": [
        "En este ejemplo, se define una variable \"hora\" que contiene la hora actual en formato de 24 horas. Luego, se utiliza una estructura if-elif-else para determinar la parte del día (mañana, tarde o noche) según la hora actual. Si la hora es menor a 12, se imprimirá el mensaje \"Buenos días\". Si la hora está entre las 12 y las 18 horas (inclusive), se imprimirá el mensaje \"Buenas tardes\". De lo contrario, se imprimirá el mensaje \"Buenas noches\".\n",
        "\n",
        "El resultado de este código dependerá de la hora del día en que se ejecute el programa. Si se ejecuta por la mañana, se imprimirá el mensaje \"Buenos días\". Si se ejecuta por la tarde, se imprimirá el mensaje \"Buenas tardes\". Si se ejecuta por la noche, se imprimirá el mensaje \"Buenas noches\"."
      ],
      "metadata": {
        "id": "iaBm-sDu0ik4"
      }
    },
    {
      "cell_type": "code",
      "source": [
        "numero = int(input(\"Ingresa un número: \"))\n",
        "\n",
        "if numero >= 5 and numero < 10:\n",
        "    print(\"Es mayor que cinco y menor que diez\")\n",
        "elif numero > 5 and numero > 10:\n",
        "    print(\"Es mayor que cinco y mayor que diez\")\n",
        "\n",
        "if numero == 10:\n",
        "    print(\"Es igual a 10\")\n",
        "    \n",
        "if numero == 5:\n",
        "    print(\"Es igual a 5\")\n",
        "else:\n",
        "    print(\"Es menor que 5 y 10\")"
      ],
      "metadata": {
        "colab": {
          "base_uri": "https://localhost:8080/"
        },
        "id": "mr1CSCn60jf3",
        "outputId": "b4de3859-aba9-4cdd-d1c3-6252c613e086"
      },
      "execution_count": null,
      "outputs": [
        {
          "output_type": "stream",
          "name": "stdout",
          "text": [
            "Ingresa un número: 12\n",
            "Es mayor que cinco y mayor que diez\n",
            "Es menor que 5 y 10\n"
          ]
        }
      ]
    },
    {
      "cell_type": "markdown",
      "source": [
        "En este caso, la función devuelve el promedio de la lista [5, 10, 15, 20], que es 12.5. Esta función puede ser útil en una variedad de aplicaciones donde se necesite calcular el promedio de una lista de números."
      ],
      "metadata": {
        "id": "7rGbyLX4S1XW"
      }
    },
    {
      "cell_type": "markdown",
      "source": [
        "## Funciones en Python"
      ],
      "metadata": {
        "id": "1PqMrleZRMQp"
      }
    },
    {
      "cell_type": "markdown",
      "source": [
        "En Python, una función es un bloque de código que realiza una tarea específica. Las funciones se utilizan para dividir un programa en partes más pequeñas y manejables, lo que hace que el código sea más legible, reutilizable y fácil de mantener.\n",
        "\n",
        "Una función puede aceptar cero o más argumentos (valores de entrada), realizar algunas operaciones y devolver un valor (valor de salida). También puede no devolver ningún valor en absoluto."
      ],
      "metadata": {
        "id": "O0ja_1I1RLHG"
      }
    },
    {
      "cell_type": "markdown",
      "source": [
        "Las funciones nos ayudan a que el código sea más fácil de leer y entender. Además, saber cómo generar funciones habla muy bien de la capacidad de abstracción de un programador, en tanto que es una de las habilidades técnicas más difíciles de consolidar en el desarrollo de software. Para que comiences en este camino, te daremos una guía básica de cómo definirlas."
      ],
      "metadata": {
        "id": "edLwZ8hYRU4m"
      }
    },
    {
      "cell_type": "code",
      "source": [
        "# La sintaxis básica para definir una función en Python es la siguiente:\n",
        "\n",
        "def nombre_funcion(argumentos):\n",
        "    # cuerpo de la función\n",
        "    return valor_de_salida"
      ],
      "metadata": {
        "id": "jJFA7RIRRVkt"
      },
      "execution_count": null,
      "outputs": []
    },
    {
      "cell_type": "markdown",
      "source": [
        "Sintaxis:\n",
        "\n",
        "En Python, una definición de función tiene las siguientes características:\n",
        "\n",
        "* La palabra clave def\n",
        "* Un nombre de función\n",
        "* Paréntesis ’()’, y dentro de los paréntesis los parámetros de entrada, aunque los parámetros de entrada sean opcionales.\n",
        "* Dos puntos ’:’\n",
        "* Algún bloque de código para ejecutar\n",
        "* Una sentencia de retorno (opcional)"
      ],
      "metadata": {
        "id": "QcX6wVwIRtU4"
      }
    },
    {
      "cell_type": "code",
      "source": [
        "# función sin parámetros o retorno de valores\n",
        "def diHola():\n",
        "  print(\"Hello!\")\n",
        "\n",
        "diHola()  # llamada a la función, 'Hello!' se muestra en la consola\n",
        "\n",
        "# función con un parámetro\n",
        "def holaConNombre(name):\n",
        "  print(\"Hello \" + name + \"!\")\n",
        "\n",
        "holaConNombre(\"Ada\")  # llamada a la función, 'Hello Ada!' se muestra en la consola\n",
        "\n",
        "# función con múltiples parámetros con una sentencia de retorno\n",
        "def multiplica(val1, val2):\n",
        "  return val1 * val2\n",
        "\n",
        "multiplica(3, 5)  # muestra 15 en la consola"
      ],
      "metadata": {
        "colab": {
          "base_uri": "https://localhost:8080/"
        },
        "id": "C6AQLgSkR2Hg",
        "outputId": "8e7e7c04-90a8-4a7b-b09b-a3747b0b2f15"
      },
      "execution_count": null,
      "outputs": [
        {
          "output_type": "stream",
          "name": "stdout",
          "text": [
            "Hello!\n",
            "Hello Ada!\n"
          ]
        },
        {
          "output_type": "execute_result",
          "data": {
            "text/plain": [
              "15"
            ]
          },
          "metadata": {},
          "execution_count": 2
        }
      ]
    },
    {
      "cell_type": "markdown",
      "source": [
        "Las funciones son bloques de código que se pueden reutilizar simplemente llamando a la función. Esto permite la reutilización de código simple y elegante sin volver a escribir explícitamente secciones de código. Esto hace que el código sea más legible, facilita la depuración y limita los errores de escritura."
      ],
      "metadata": {
        "id": "E7BWJ4baSDps"
      }
    },
    {
      "cell_type": "code",
      "source": [
        "def sumar(a, b):\n",
        "    resultado = a + b\n",
        "    return resultado\n",
        "\n",
        "resultado = sumar(2, 3)\n",
        "print(resultado) # imprime 5"
      ],
      "metadata": {
        "colab": {
          "base_uri": "https://localhost:8080/"
        },
        "id": "AeeEg2o0SEQL",
        "outputId": "32386857-4751-4e71-c387-c5f7e624cc0d"
      },
      "execution_count": null,
      "outputs": [
        {
          "output_type": "stream",
          "name": "stdout",
          "text": [
            "5\n"
          ]
        }
      ]
    },
    {
      "cell_type": "code",
      "source": [
        "# Otro ejemplo técnico de una función en Python:\n",
        "\n",
        "def calcular_promedio(lista):\n",
        "    suma = sum(lista)\n",
        "    longitud = len(lista)\n",
        "    promedio = suma / longitud\n",
        "    return promedio"
      ],
      "metadata": {
        "id": "z4S8ynSHSZYd"
      },
      "execution_count": null,
      "outputs": []
    },
    {
      "cell_type": "code",
      "source": [
        "# En este ejemplo, la función \"calcular_promedio\" toma una lista de números como argumento,\n",
        "# calcula la suma y la longitud de la lista, y luego devuelve el promedio de la lista.\n",
        "\n",
        "# Para utilizar esta función, primero se crea una lista de números, por ejemplo:\n",
        "\n",
        "numeros = [5, 10, 15, 20]\n",
        "\n",
        "# Luego, se llama a la función \"calcular_promedio\" y se le pasa la lista de números como argumento:\n",
        "\n",
        "promedio = calcular_promedio(numeros)\n",
        "print(promedio) # imprime 12.5"
      ],
      "metadata": {
        "colab": {
          "base_uri": "https://localhost:8080/"
        },
        "id": "rgDUuG6PSmVy",
        "outputId": "c8f1ed51-a29d-4e75-bd96-9e67f8f4d004"
      },
      "execution_count": null,
      "outputs": [
        {
          "output_type": "stream",
          "name": "stdout",
          "text": [
            "12.5\n"
          ]
        }
      ]
    },
    {
      "cell_type": "code",
      "source": [
        "def encontrar_primos(n):\n",
        "    primos = []\n",
        "    for num in range(2, n+1):\n",
        "        es_primo = True\n",
        "        for i in range(2, num):\n",
        "            if (num % i) == 0:\n",
        "                es_primo = False\n",
        "                break\n",
        "        if es_primo:\n",
        "            primos.append(num)\n",
        "    return primos"
      ],
      "metadata": {
        "id": "FPSFXtZKTJ6o"
      },
      "execution_count": null,
      "outputs": []
    },
    {
      "cell_type": "code",
      "source": [
        "# En este ejemplo, la función \"encontrar_primos\" toma un número entero n como argumento y devuelve una lista de todos los números primos\n",
        "# entre 2 y n (incluyendo 2 y n si son primos).\n",
        "\n",
        "# Para utilizar esta función, se llama a la función y se le pasa un número como argumento:\n",
        "\n",
        "primos_hasta_20 = encontrar_primos(20)\n",
        "print(primos_hasta_20) # imprime [2, 3, 5, 7, 11, 13, 17, 19]"
      ],
      "metadata": {
        "colab": {
          "base_uri": "https://localhost:8080/"
        },
        "id": "D__-H3eLTZzz",
        "outputId": "d3974431-f9ab-48d4-91e2-40e34999fb6f"
      },
      "execution_count": null,
      "outputs": [
        {
          "output_type": "stream",
          "name": "stdout",
          "text": [
            "[2, 3, 5, 7, 11, 13, 17, 19]\n"
          ]
        }
      ]
    },
    {
      "cell_type": "markdown",
      "source": [
        "En este caso, la función devuelve una lista de todos los números primos entre 2 y 20, que son [2, 3, 5, 7, 11, 13, 17, 19]. Esta función puede ser útil en una variedad de aplicaciones donde se necesite encontrar todos los números primos hasta un cierto límite."
      ],
      "metadata": {
        "id": "kNrj7JuMTiBm"
      }
    },
    {
      "cell_type": "markdown",
      "source": [
        "## Parametros en Python"
      ],
      "metadata": {
        "id": "YbTFXdW3UO9B"
      }
    },
    {
      "cell_type": "markdown",
      "source": [
        "En Python, un parámetro es un valor que se pasa a una función cuando se la llama. Los parámetros se definen en la definición de la función, y permiten que la función acepte valores de entrada y realice operaciones basadas en esos valores.\n",
        "\n",
        "Hay dos tipos de parámetros en Python: parámetros posicionales y parámetros con nombre. Los parámetros posicionales son aquellos que se pasan a la función en el mismo orden en que se definen en la definición de la función, mientras que los parámetros con nombre se pasan a la función especificando el nombre del parámetro y su valor.\n",
        "\n",
        "Por ejemplo, en la siguiente definición de función, \"x\" y \"y\" son parámetros posicionales:"
      ],
      "metadata": {
        "id": "7iTg2q3AUS53"
      }
    },
    {
      "cell_type": "code",
      "source": [
        "def sumar(x, y):\n",
        "    resultado = x + y\n",
        "    return resultado"
      ],
      "metadata": {
        "id": "ocGaxPgXUvBf"
      },
      "execution_count": null,
      "outputs": []
    },
    {
      "cell_type": "code",
      "source": [
        "# En este caso, cuando se llama a la función \"sumar\", se deben pasar dos argumentos en el mismo orden que los parámetros \"x\" y \"y\":\n",
        "\n",
        "resultado = sumar(2, 3)"
      ],
      "metadata": {
        "id": "dKNaAIAcUyor"
      },
      "execution_count": null,
      "outputs": []
    },
    {
      "cell_type": "markdown",
      "source": [
        "En este caso, la función devuelve 5, ya que 2 y 3 se suman dentro de la función.\n",
        "\n",
        "También es posible utilizar parámetros con nombre al llamar a una función. Por ejemplo, en la siguiente definición de función, \"nombre\" y \"apellido\" son parámetros con nombre:"
      ],
      "metadata": {
        "id": "krU-hmPiU26a"
      }
    },
    {
      "cell_type": "code",
      "source": [
        "def saludar(nombre, apellido):\n",
        "    mensaje = f\"Hola, {nombre} {apellido}!\"\n",
        "    return mensaje"
      ],
      "metadata": {
        "id": "g4DCMuhoU3jq"
      },
      "execution_count": null,
      "outputs": []
    },
    {
      "cell_type": "code",
      "source": [
        "# En este caso, cuando se llama a la función \"saludar\", se pueden pasar los argumentos especificando el nombre del parámetro y su valor:\n",
        "\n",
        "mensaje = saludar(nombre=\"Juan\", apellido=\"Pérez\")\n",
        "mensaje"
      ],
      "metadata": {
        "colab": {
          "base_uri": "https://localhost:8080/",
          "height": 36
        },
        "id": "QSrGlxpBU6pK",
        "outputId": "95e58ada-04ad-467e-90a2-564d16af85a1"
      },
      "execution_count": null,
      "outputs": [
        {
          "output_type": "execute_result",
          "data": {
            "text/plain": [
              "'Hola, Juan Pérez!'"
            ],
            "application/vnd.google.colaboratory.intrinsic+json": {
              "type": "string"
            }
          },
          "metadata": {},
          "execution_count": 16
        }
      ]
    },
    {
      "cell_type": "markdown",
      "source": [
        "En este caso, la función devuelve el mensaje \"Hola, Juan Pérez!\", ya que se han especificado los valores para los parámetros con nombre \"nombre\" y \"apellido\"."
      ],
      "metadata": {
        "id": "LV9pUKxDVAQs"
      }
    },
    {
      "cell_type": "code",
      "source": [
        "def imprimir_info(nombre, edad=0, ciudad=\"\"):\n",
        "    print(f\"Nombre: {nombre}\")\n",
        "    if edad:\n",
        "        print(f\"Edad: {edad}\")\n",
        "    if ciudad:\n",
        "        print(f\"Ciudad: {ciudad}\")"
      ],
      "metadata": {
        "id": "-x6lch3tVFYf"
      },
      "execution_count": null,
      "outputs": []
    },
    {
      "cell_type": "markdown",
      "source": [
        "En este ejemplo, la función \"imprimir_info\" acepta tres parámetros: \"nombre\", \"edad\" y \"ciudad\". La edad y la ciudad son parámetros opcionales que tienen valores predeterminados de 0 y una cadena vacía, respectivamente."
      ],
      "metadata": {
        "id": "voTpWN6VVIfB"
      }
    },
    {
      "cell_type": "code",
      "source": [
        "# Cuando se llama a esta función, se puede especificar solo el nombre, o se pueden proporcionar valores para la edad y la ciudad también:\n",
        "\n",
        "imprimir_info(\"Juan\") # imprime \"Nombre: Juan\"\n",
        "imprimir_info(\"María\", 25) # imprime \"Nombre: María\" y \"Edad: 25\"\n",
        "imprimir_info(\"Pedro\", ciudad=\"Buenos Aires\") # imprime \"Nombre: Pedro\" y \"Ciudad: Buenos Aires\""
      ],
      "metadata": {
        "colab": {
          "base_uri": "https://localhost:8080/"
        },
        "id": "DqlcGvmxVJI9",
        "outputId": "b9d8f1c4-7831-49d7-dea7-2c23d12a037a"
      },
      "execution_count": null,
      "outputs": [
        {
          "output_type": "stream",
          "name": "stdout",
          "text": [
            "Nombre: Juan\n",
            "Nombre: María\n",
            "Edad: 25\n",
            "Nombre: Pedro\n",
            "Ciudad: Buenos Aires\n"
          ]
        }
      ]
    },
    {
      "cell_type": "markdown",
      "source": [
        "En el primer caso, solo se proporciona el nombre, por lo que solo se imprime el nombre. En el segundo caso, se proporciona el nombre y la edad, por lo que se imprime el nombre y la edad. En el tercer caso, se proporciona el nombre y la ciudad como parámetros con nombre, por lo que se imprime el nombre y la ciudad.\n",
        "\n",
        "Este ejemplo demuestra cómo se pueden utilizar parámetros opcionales y parámetros con nombre en una función para proporcionar flexibilidad y permitir que la función sea utilizada de diferentes maneras."
      ],
      "metadata": {
        "id": "FY-YkDI7VQMA"
      }
    },
    {
      "cell_type": "code",
      "source": [
        "def multiplicar_numeros(*numeros):\n",
        "    resultado = 1\n",
        "    for num in numeros:\n",
        "        resultado *= num\n",
        "    return resultado"
      ],
      "metadata": {
        "id": "FdK9xb7TVQ9d"
      },
      "execution_count": null,
      "outputs": []
    },
    {
      "cell_type": "markdown",
      "source": [
        "En este ejemplo, la función \"multiplicar_numeros\" acepta un número variable de argumentos (denotado por el asterisco antes del nombre del parámetro), que se almacenan en una tupla llamada \"numeros\". La función multiplica todos los números juntos y devuelve el resultado."
      ],
      "metadata": {
        "id": "OxkxlniEWmMs"
      }
    },
    {
      "cell_type": "code",
      "source": [
        "# Cuando se llama a esta función, se pueden proporcionar cualquier número de argumentos:\n",
        "\n",
        "resultado1 = multiplicar_numeros(2, 3, 4) # devuelve 24\n",
        "resultado2 = multiplicar_numeros(5, 10, 20, 30) # devuelve 30000\n",
        "resultado3 = multiplicar_numeros(1) # devuelve 1"
      ],
      "metadata": {
        "id": "thJJfrpZWmxv"
      },
      "execution_count": null,
      "outputs": []
    },
    {
      "cell_type": "code",
      "source": [
        "# resultado1\n",
        "# resultado2\n",
        "resultado1"
      ],
      "metadata": {
        "colab": {
          "base_uri": "https://localhost:8080/"
        },
        "id": "kb-FtMa1Wr8z",
        "outputId": "e606d673-2a0c-415e-d667-51168358afaa"
      },
      "execution_count": null,
      "outputs": [
        {
          "output_type": "execute_result",
          "data": {
            "text/plain": [
              "24"
            ]
          },
          "metadata": {},
          "execution_count": 24
        }
      ]
    },
    {
      "cell_type": "markdown",
      "source": [
        "En el primer caso, se proporcionan tres argumentos (2, 3 y 4), por lo que la función devuelve 24 (que es el producto de 2, 3 y 4). En el segundo caso, se proporcionan cuatro argumentos (5, 10, 20 y 30), por lo que la función devuelve 30000 (que es el producto de 5, 10, 20 y 30). En el tercer caso, solo se proporciona un argumento (1), por lo que la función devuelve 1 (ya que 1 multiplicado por cualquier número es igual a ese número).\n",
        "\n",
        "Este ejemplo demuestra cómo se pueden utilizar argumentos variables en una función para permitir que la función acepte cualquier número de argumentos, y cómo se pueden utilizar ciclos y estructuras de control para operar en todos los argumentos proporcionados."
      ],
      "metadata": {
        "id": "xlPOebS2W5jM"
      }
    },
    {
      "cell_type": "markdown",
      "source": [
        "## Ejercicios para realizar en la unidad 1"
      ],
      "metadata": {
        "id": "gQUl6Ptc0wYC"
      }
    },
    {
      "cell_type": "code",
      "source": [
        "# Ejercicio 1: Escribir un programa que pregunte el nombre del usuario en la consola y un número entero e imprima por pantalla en líneas distintas el nombre del usuario tantas veces como el número introducido.\n"
      ],
      "metadata": {
        "id": "SkNOCIyNXgis"
      },
      "execution_count": null,
      "outputs": []
    },
    {
      "cell_type": "code",
      "source": [
        "# Ejercicio 2: Ingresar dos números y mostrar el menor de ellos\n"
      ],
      "metadata": {
        "id": "WtcIo_-AX-dB"
      },
      "execution_count": null,
      "outputs": []
    },
    {
      "cell_type": "code",
      "source": [
        "# Ejercicio 3: Escribir un programa que pida al usuario una palabra y la muestre por pantalla 10 veces.\n"
      ],
      "metadata": {
        "id": "06UKrbRVYm8G"
      },
      "execution_count": null,
      "outputs": []
    },
    {
      "cell_type": "code",
      "source": [
        "# Ejercicio 4: Escribir un programa que pida al usuario un número entero y muestre por pantalla si es par o impar.\n"
      ],
      "metadata": {
        "id": "4vUud-n_YsOl"
      },
      "execution_count": null,
      "outputs": []
    },
    {
      "cell_type": "code",
      "source": [
        "# Ejercicio 5: Escribir un programa que pida al usuario un número entero positivo y muestre por pantalla todos los números impares desde 1 hasta ese número separados por comas.\n"
      ],
      "metadata": {
        "id": "7wWSnVEDY8V7"
      },
      "execution_count": null,
      "outputs": []
    },
    {
      "cell_type": "code",
      "source": [
        "# Ejercicio 6: Escribir un programa que pida al usuario un número entero positivo y muestre por pantalla la cuenta atrás desde ese número hasta cero separados por comas.\n"
      ],
      "metadata": {
        "id": "aLGQ3fHhZLkV"
      },
      "execution_count": null,
      "outputs": []
    },
    {
      "cell_type": "code",
      "source": [
        "# Ejercicio 7: Escribir un programa que pida al usuario un número entero y muestre por pantalla un triángulo rectángulo.\n"
      ],
      "metadata": {
        "id": "_3-s0w7dZVix"
      },
      "execution_count": null,
      "outputs": []
    },
    {
      "cell_type": "code",
      "source": [
        "# Ejercicio 8: Escribir un programa que muestre por pantalla la tabla de multiplicar del 1 al 10.\n"
      ],
      "metadata": {
        "id": "3vdfoN5OZcNZ"
      },
      "execution_count": null,
      "outputs": []
    },
    {
      "cell_type": "code",
      "source": [
        "# Ejercicio 9: Escribir un programa que pida al usuario una palabra y luego muestre por pantalla una a una las letras de la palabra introducida empezando por la última.\n"
      ],
      "metadata": {
        "id": "aNxi-9CBZlEB"
      },
      "execution_count": null,
      "outputs": []
    },
    {
      "cell_type": "code",
      "source": [
        "# Ejercicio 10: Escribir un programa en el que se pregunte al usuario por una frase y una letra, y muestre por pantalla el número de veces que aparece la letra en la frase.\n"
      ],
      "metadata": {
        "id": "z06axEwhZyzX"
      },
      "execution_count": null,
      "outputs": []
    }
  ]
}